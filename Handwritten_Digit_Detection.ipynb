{
  "nbformat": 4,
  "nbformat_minor": 0,
  "metadata": {
    "colab": {
      "provenance": []
    },
    "kernelspec": {
      "name": "python3",
      "display_name": "Python 3"
    },
    "language_info": {
      "name": "python"
    }
  },
  "cells": [
    {
      "cell_type": "markdown",
      "source": [
        "# 1. Import Libraries"
      ],
      "metadata": {
        "id": "Ulg7trKHWJww"
      }
    },
    {
      "cell_type": "code",
      "execution_count": 1,
      "metadata": {
        "id": "ypvz7qWiWHBt"
      },
      "outputs": [],
      "source": [
        "import os\n",
        "import torch\n",
        "from torch import nn\n",
        "from torch.utils.data import DataLoader, Dataset\n",
        "from torchvision import datasets, transforms\n",
        "from torchvision.transforms import ToTensor\n",
        "import matplotlib.pyplot as plt\n",
        "from PIL import Image\n",
        "import pandas as pd"
      ]
    },
    {
      "cell_type": "markdown",
      "source": [
        "# 2. Datasets & DataLoaders"
      ],
      "metadata": {
        "id": "ZZQbu-q9XIIs"
      }
    },
    {
      "cell_type": "code",
      "source": [
        "# Download training data from open datasets.\n",
        "training_data = datasets.MNIST(root=\"data\", train=True, download=True, transform=ToTensor(),)\n",
        "\n",
        "# Download test data from open datasets.\n",
        "validation_data = datasets.MNIST(root=\"data\", train=False, download=True, transform=ToTensor(),)"
      ],
      "metadata": {
        "id": "CyLqpHInXNNL"
      },
      "execution_count": 5,
      "outputs": []
    },
    {
      "cell_type": "code",
      "source": [
        "# Iterating and Visualizing the Dataset\n",
        "figure = plt.figure(figsize=(8, 8))\n",
        "cols, rows = 3, 3\n",
        "for i in range(1, cols * rows + 1):\n",
        "    sample_idx = torch.randint(len(training_data), size=(1,)).item()\n",
        "    img, label = training_data[sample_idx]\n",
        "    figure.add_subplot(rows, cols, i)\n",
        "    plt.title(label)\n",
        "    plt.axis(\"off\")\n",
        "    plt.imshow(img.squeeze(), cmap=\"gray\")\n",
        "plt.show()"
      ],
      "metadata": {
        "colab": {
          "base_uri": "https://localhost:8080/",
          "height": 665
        },
        "id": "nvi4onkjXtLU",
        "outputId": "e2c0fbde-31dd-44cc-c6f0-c80104e2d463"
      },
      "execution_count": 6,
      "outputs": [
        {
          "output_type": "display_data",
          "data": {
            "text/plain": [
              "<Figure size 800x800 with 9 Axes>"
            ],
            "image/png": "[encoded data removed]"
          },
          "metadata": {}
        }
      ]
    },
    {
      "cell_type": "code",
      "source": [
        "train_dataloader = DataLoader(training_data, batch_size=64, shuffle=True)\n",
        "validation_dataloader = DataLoader(validation_data, batch_size=64, shuffle=True)"
      ],
      "metadata": {
        "id": "mc6SBAHJYjaQ"
      },
      "execution_count": 8,
      "outputs": []
    },
    {
      "cell_type": "code",
      "source": [
        "# Display image and label.\n",
        "train_features, train_labels = next(iter(train_dataloader))\n",
        "print(f\"Feature batch shape: {train_features.size()}\")\n",
        "print(f\"Labels batch shape: {train_labels.size()}\")\n",
        "img = train_features[0].squeeze()\n",
        "label = train_labels[0]\n",
        "plt.imshow(img, cmap=\"gray\")\n",
        "plt.show()\n",
        "print(f\"Label: {label}\")"
      ],
      "metadata": {
        "colab": {
          "base_uri": "https://localhost:8080/",
          "height": 482
        },
        "id": "4YGU8Nw7YUqf",
        "outputId": "9c73fc89-038d-463b-d169-b580a34a9ad2"
      },
      "execution_count": 9,
      "outputs": [
        {
          "output_type": "stream",
          "name": "stdout",
          "text": [
            "Feature batch shape: torch.Size([64, 1, 28, 28])\n",
            "Labels batch shape: torch.Size([64])\n"
          ]
        },
        {
          "output_type": "display_data",
          "data": {
            "text/plain": [
              "<Figure size 640x480 with 1 Axes>"
            ],
            "image/png": "[encoded data removed]"
          },
          "metadata": {}
        },
        {
          "output_type": "stream",
          "name": "stdout",
          "text": [
            "Label: 0\n"
          ]
        }
      ]
    },
    {
      "cell_type": "markdown",
      "source": [
        "# 3. Build Model"
      ],
      "metadata": {
        "id": "K1-rFUDRYpMK"
      }
    },
    {
      "cell_type": "code",
      "source": [
        "# Get cpu, gpu or mps device for training.\n",
        "device = (\n",
        "    \"cuda\"\n",
        "    if torch.cuda.is_available()\n",
        "    else \"mps\"\n",
        "    if torch.backends.mps.is_available()\n",
        "    else \"cpu\"\n",
        ")\n",
        "print(f\"Using {device} device\")"
      ],
      "metadata": {
        "colab": {
          "base_uri": "https://localhost:8080/"
        },
        "id": "-erawKBMYrZ-",
        "outputId": "8622c848-c6c3-4add-f1e7-4dcdccc2eef7"
      },
      "execution_count": 10,
      "outputs": [
        {
          "output_type": "stream",
          "name": "stdout",
          "text": [
            "Using cpu device\n"
          ]
        }
      ]
    },
    {
      "cell_type": "code",
      "source": [
        "# Define model\n",
        "class NeuralNetwork(nn.Module):\n",
        "    def __init__(self):\n",
        "        super().__init__()\n",
        "        self.flatten = nn.Flatten()\n",
        "        self.linear_relu_stack = nn.Sequential( #layers increase -> need more data -> overfitting\n",
        "            nn.Linear(28*28, 512),\n",
        "            nn.ReLU(),\n",
        "            nn.Linear(512, 512),\n",
        "            nn.ReLU(),\n",
        "            nn.Linear(512, 10)\n",
        "        )\n",
        "\n",
        "    def forward(self, x):\n",
        "        x = self.flatten(x)\n",
        "        logits = self.linear_relu_stack(x)\n",
        "        return logits #prediction value\n",
        "\n",
        "model = NeuralNetwork().to(device)\n",
        "print(model)"
      ],
      "metadata": {
        "colab": {
          "base_uri": "https://localhost:8080/"
        },
        "id": "FN2MAd_vcPO3",
        "outputId": "5c7a1dee-5206-410f-e182-cc3657b8e9d8"
      },
      "execution_count": 11,
      "outputs": [
        {
          "output_type": "stream",
          "name": "stdout",
          "text": [
            "NeuralNetwork(\n",
            "  (flatten): Flatten(start_dim=1, end_dim=-1)\n",
            "  (linear_relu_stack): Sequential(\n",
            "    (0): Linear(in_features=784, out_features=512, bias=True)\n",
            "    (1): ReLU()\n",
            "    (2): Linear(in_features=512, out_features=512, bias=True)\n",
            "    (3): ReLU()\n",
            "    (4): Linear(in_features=512, out_features=10, bias=True)\n",
            "  )\n",
            ")\n"
          ]
        }
      ]
    },
    {
      "cell_type": "markdown",
      "source": [
        "# 4. Optimizing the Model Parameters"
      ],
      "metadata": {
        "id": "UlAd7ACKcigb"
      }
    },
    {
      "cell_type": "code",
      "source": [
        "loss_fn = nn.CrossEntropyLoss()\n",
        "optimizer = torch.optim.SGD(model.parameters(), lr=1e-3)"
      ],
      "metadata": {
        "id": "zx95OZ8lcnHg"
      },
      "execution_count": 12,
      "outputs": []
    },
    {
      "cell_type": "code",
      "source": [
        "def train(dataloader, model, loss_fn, optimizer):\n",
        "    size = len(dataloader.dataset)\n",
        "    model.train()\n",
        "    for batch, (X, y) in enumerate(dataloader):\n",
        "        X, y = X.to(device), y.to(device)\n",
        "\n",
        "        # Compute prediction error\n",
        "        pred = model(X)\n",
        "        loss = loss_fn(pred, y)\n",
        "\n",
        "        # Backpropagation\n",
        "        loss.backward()\n",
        "        optimizer.step()\n",
        "        optimizer.zero_grad()\n",
        "\n",
        "        if batch % 100 == 0:\n",
        "            loss, current = loss.item(), (batch + 1) * len(X)\n",
        "            print(f\"loss: {loss:>7f}  [{current:>5d}/{size:>5d}]\")"
      ],
      "metadata": {
        "id": "Nf3UQ1OYdlTL"
      },
      "execution_count": 13,
      "outputs": []
    },
    {
      "cell_type": "code",
      "source": [
        "# Check the model's performance against the test dataset to ensure it is learning\n",
        "def test(dataloader, model, loss_fn):\n",
        "    size = len(dataloader.dataset)\n",
        "    num_batches = len(dataloader)\n",
        "    model.eval()\n",
        "    test_loss, correct = 0, 0\n",
        "    with torch.no_grad():\n",
        "        for X, y in dataloader:\n",
        "            X, y = X.to(device), y.to(device)\n",
        "            pred = model(X)\n",
        "            test_loss += loss_fn(pred, y).item()\n",
        "            correct += (pred.argmax(1) == y).type(torch.float).sum().item()\n",
        "    test_loss /= num_batches\n",
        "    correct /= size\n",
        "    print(f\"Test Error: \\n Accuracy: {(100*correct):>0.1f}%, Avg loss: {test_loss:>8f} \\n\")"
      ],
      "metadata": {
        "id": "vHAnBD3DeP96"
      },
      "execution_count": 15,
      "outputs": []
    },
    {
      "cell_type": "code",
      "source": [
        "epochs = 10\n",
        "for t in range(epochs):\n",
        "    print(f\"Epoch {t+1}\\n-------------------------------\")\n",
        "    train(train_dataloader, model, loss_fn, optimizer)\n",
        "    test(validation_dataloader, model, loss_fn)\n",
        "print(\"Done!\")"
      ],
      "metadata": {
        "colab": {
          "base_uri": "https://localhost:8080/"
        },
        "id": "r-UtTimteukl",
        "outputId": "b04563b1-1222-49f1-ead7-44908d5590ac"
      },
      "execution_count": 16,
      "outputs": [
        {
          "output_type": "stream",
          "name": "stdout",
          "text": [
            "Epoch 1\n",
            "-------------------------------\n",
            "loss: 2.303289  [   64/60000]\n",
            "loss: 2.302846  [ 6464/60000]\n",
            "loss: 2.305627  [12864/60000]\n",
            "loss: 2.301228  [19264/60000]\n",
            "loss: 2.282423  [25664/60000]\n",
            "loss: 2.291875  [32064/60000]\n",
            "loss: 2.287501  [38464/60000]\n",
            "loss: 2.275088  [44864/60000]\n",
            "loss: 2.268726  [51264/60000]\n",
            "loss: 2.261827  [57664/60000]\n",
            "Test Error: \n",
            " Accuracy: 35.3%, Avg loss: 2.261835 \n",
            "\n",
            "Epoch 2\n",
            "-------------------------------\n",
            "loss: 2.260186  [   64/60000]\n",
            "loss: 2.259143  [ 6464/60000]\n",
            "loss: 2.250021  [12864/60000]\n",
            "loss: 2.252672  [19264/60000]\n",
            "loss: 2.247503  [25664/60000]\n",
            "loss: 2.243957  [32064/60000]\n",
            "loss: 2.234969  [38464/60000]\n",
            "loss: 2.221015  [44864/60000]\n",
            "loss: 2.203775  [51264/60000]\n",
            "loss: 2.225042  [57664/60000]\n",
            "Test Error: \n",
            " Accuracy: 59.2%, Avg loss: 2.200548 \n",
            "\n",
            "Epoch 3\n",
            "-------------------------------\n",
            "loss: 2.204772  [   64/60000]\n",
            "loss: 2.193841  [ 6464/60000]\n",
            "loss: 2.181355  [12864/60000]\n",
            "loss: 2.183987  [19264/60000]\n",
            "loss: 2.172407  [25664/60000]\n",
            "loss: 2.165563  [32064/60000]\n",
            "loss: 2.158398  [38464/60000]\n",
            "loss: 2.146528  [44864/60000]\n",
            "loss: 2.118789  [51264/60000]\n",
            "loss: 2.123186  [57664/60000]\n",
            "Test Error: \n",
            " Accuracy: 68.5%, Avg loss: 2.097945 \n",
            "\n",
            "Epoch 4\n",
            "-------------------------------\n",
            "loss: 2.092895  [   64/60000]\n",
            "loss: 2.084048  [ 6464/60000]\n",
            "loss: 2.044044  [12864/60000]\n",
            "loss: 2.065529  [19264/60000]\n",
            "loss: 2.049618  [25664/60000]\n",
            "loss: 2.060786  [32064/60000]\n",
            "loss: 1.961292  [38464/60000]\n",
            "loss: 2.035220  [44864/60000]\n",
            "loss: 1.915347  [51264/60000]\n",
            "loss: 1.937362  [57664/60000]\n",
            "Test Error: \n",
            " Accuracy: 71.6%, Avg loss: 1.917007 \n",
            "\n",
            "Epoch 5\n",
            "-------------------------------\n",
            "loss: 1.954776  [   64/60000]\n",
            "loss: 1.864946  [ 6464/60000]\n",
            "loss: 1.862085  [12864/60000]\n",
            "loss: 1.806949  [19264/60000]\n",
            "loss: 1.759227  [25664/60000]\n",
            "loss: 1.807440  [32064/60000]\n",
            "loss: 1.667077  [38464/60000]\n",
            "loss: 1.745737  [44864/60000]\n",
            "loss: 1.616900  [51264/60000]\n",
            "loss: 1.737587  [57664/60000]\n",
            "Test Error: \n",
            " Accuracy: 74.2%, Avg loss: 1.636376 \n",
            "\n",
            "Epoch 6\n",
            "-------------------------------\n",
            "loss: 1.591356  [   64/60000]\n",
            "loss: 1.689908  [ 6464/60000]\n",
            "loss: 1.593497  [12864/60000]\n",
            "loss: 1.484096  [19264/60000]\n",
            "loss: 1.467522  [25664/60000]\n",
            "loss: 1.453979  [32064/60000]\n",
            "loss: 1.408679  [38464/60000]\n",
            "loss: 1.457187  [44864/60000]\n",
            "loss: 1.442689  [51264/60000]\n",
            "loss: 1.305789  [57664/60000]\n",
            "Test Error: \n",
            " Accuracy: 77.1%, Avg loss: 1.314486 \n",
            "\n",
            "Epoch 7\n",
            "-------------------------------\n",
            "loss: 1.285343  [   64/60000]\n",
            "loss: 1.333286  [ 6464/60000]\n",
            "loss: 1.285344  [12864/60000]\n",
            "loss: 1.272796  [19264/60000]\n",
            "loss: 1.226259  [25664/60000]\n",
            "loss: 1.145523  [32064/60000]\n",
            "loss: 1.131743  [38464/60000]\n",
            "loss: 1.231943  [44864/60000]\n",
            "loss: 1.086169  [51264/60000]\n",
            "loss: 1.171068  [57664/60000]\n",
            "Test Error: \n",
            " Accuracy: 79.7%, Avg loss: 1.049278 \n",
            "\n",
            "Epoch 8\n",
            "-------------------------------\n",
            "loss: 1.024942  [   64/60000]\n",
            "loss: 1.081194  [ 6464/60000]\n",
            "loss: 1.027730  [12864/60000]\n",
            "loss: 0.948832  [19264/60000]\n",
            "loss: 0.921243  [25664/60000]\n",
            "loss: 1.184634  [32064/60000]\n",
            "loss: 0.940561  [38464/60000]\n",
            "loss: 0.903247  [44864/60000]\n",
            "loss: 0.896845  [51264/60000]\n",
            "loss: 0.898430  [57664/60000]\n",
            "Test Error: \n",
            " Accuracy: 81.5%, Avg loss: 0.869503 \n",
            "\n",
            "Epoch 9\n",
            "-------------------------------\n",
            "loss: 0.963670  [   64/60000]\n",
            "loss: 0.924415  [ 6464/60000]\n",
            "loss: 0.882577  [12864/60000]\n",
            "loss: 0.790426  [19264/60000]\n",
            "loss: 0.832012  [25664/60000]\n",
            "loss: 0.756479  [32064/60000]\n",
            "loss: 0.778220  [38464/60000]\n",
            "loss: 0.986554  [44864/60000]\n",
            "loss: 0.745586  [51264/60000]\n",
            "loss: 0.635986  [57664/60000]\n",
            "Test Error: \n",
            " Accuracy: 82.8%, Avg loss: 0.746445 \n",
            "\n",
            "Epoch 10\n",
            "-------------------------------\n",
            "loss: 0.748023  [   64/60000]\n",
            "loss: 0.666448  [ 6464/60000]\n",
            "loss: 0.820190  [12864/60000]\n",
            "loss: 0.740719  [19264/60000]\n",
            "loss: 0.713907  [25664/60000]\n",
            "loss: 0.783884  [32064/60000]\n",
            "loss: 0.590481  [38464/60000]\n",
            "loss: 0.542967  [44864/60000]\n",
            "loss: 0.680372  [51264/60000]\n",
            "loss: 0.715044  [57664/60000]\n",
            "Test Error: \n",
            " Accuracy: 84.2%, Avg loss: 0.662559 \n",
            "\n",
            "Done!\n"
          ]
        }
      ]
    },
    {
      "cell_type": "markdown",
      "source": [
        "# 5. Saving Models"
      ],
      "metadata": {
        "id": "XLyGBHNefSp2"
      }
    },
    {
      "cell_type": "code",
      "source": [
        "torch.save(model.state_dict(), \"model.pth\")\n",
        "print(\"Saved PyTorch Model State to model.pth\")"
      ],
      "metadata": {
        "colab": {
          "base_uri": "https://localhost:8080/"
        },
        "id": "ijkhfN-JfU2z",
        "outputId": "1ad42e50-f86c-4170-db2e-89963f340c47"
      },
      "execution_count": 17,
      "outputs": [
        {
          "output_type": "stream",
          "name": "stdout",
          "text": [
            "Saved PyTorch Model State to model.pth\n"
          ]
        }
      ]
    },
    {
      "cell_type": "markdown",
      "source": [
        "# 6. Loading Model and Making prediction"
      ],
      "metadata": {
        "id": "XcCk9QBIfa1u"
      }
    },
    {
      "cell_type": "code",
      "source": [
        "# Re-creating the model structure and load the state dictionary into it.\n",
        "model = NeuralNetwork().to(device)\n",
        "model.load_state_dict(torch.load(\"model.pth\"))"
      ],
      "metadata": {
        "colab": {
          "base_uri": "https://localhost:8080/"
        },
        "id": "7rP3ZGpGfepB",
        "outputId": "7b1d5084-8030-4da9-f4fb-6d867329e71a"
      },
      "execution_count": 19,
      "outputs": [
        {
          "output_type": "execute_result",
          "data": {
            "text/plain": [
              "<All keys matched successfully>"
            ]
          },
          "metadata": {},
          "execution_count": 19
        }
      ]
    },
    {
      "cell_type": "code",
      "source": [
        "# Load and preprocess the image\n",
        "image = Image.open(\"/content/Screenshot 2024-05-23 011923.png\")\n",
        "\n",
        "# Define transformations\n",
        "preprocess = transforms.Compose([\n",
        "    transforms.Resize((28, 28)),  # Resize image to fit model input size\n",
        "    transforms.Grayscale(),       # Convert image to grayscale\n",
        "    transforms.ToTensor(),         # Convert image to tensor\n",
        "])\n",
        "\n",
        "# Apply transformations\n",
        "input_tensor = preprocess(image).unsqueeze(0)  # Add batch dimension\n",
        "input_tensor = torch.flatten(input_tensor, start_dim=1)  # Flatten tensor\n",
        "plt.imshow(image, cmap=\"gray\")\n",
        "plt.show()\n",
        "# Predict\n",
        "with torch.no_grad():\n",
        "    output = model(input_tensor)\n",
        "\n",
        "# Get predicted class\n",
        "predicted_class = torch.argmax(output).item()\n",
        "print(\"Predicted class:\", predicted_class)\n"
      ],
      "metadata": {
        "colab": {
          "base_uri": "https://localhost:8080/",
          "height": 452
        },
        "id": "NIF_O8jsfzhg",
        "outputId": "679f9140-37f1-4e9b-b324-929692c1f620"
      },
      "execution_count": 24,
      "outputs": [
        {
          "output_type": "display_data",
          "data": {
            "text/plain": [
              "<Figure size 640x480 with 1 Axes>"
            ],
            "image/png": "[encoded data removed]"
          },
          "metadata": {}
        },
        {
          "output_type": "stream",
          "name": "stdout",
          "text": [
            "Predicted class: 0\n"
          ]
        }
      ]
    }
  ]
}